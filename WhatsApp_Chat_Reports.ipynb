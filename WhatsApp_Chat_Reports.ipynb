{
  "nbformat": 4,
  "nbformat_minor": 0,
  "metadata": {
    "colab": {
      "provenance": [],
      "include_colab_link": true
    },
    "kernelspec": {
      "name": "python3",
      "display_name": "Python 3"
    },
    "language_info": {
      "name": "python"
    }
  },
  "cells": [
    {
      "cell_type": "markdown",
      "metadata": {
        "id": "view-in-github",
        "colab_type": "text"
      },
      "source": [
        "<a href=\"https://colab.research.google.com/github/BakuDoriya-KatsZuku/Whatsapp_Chat_Reports/blob/main/WhatsApp_Chat_Reports.ipynb\" target=\"_parent\"><img src=\"https://colab.research.google.com/assets/colab-badge.svg\" alt=\"Open In Colab\"/></a>"
      ]
    },
    {
      "cell_type": "code",
      "source": [
        "import pandas as pd\n",
        "import plotly.express as px\n",
        "import numpy as np\n",
        "import datetime\n",
        "from textblob import TextBlob\n",
        "\n",
        "with open(\"Path of .txt file containing whatsApp chats\") as f:\n",
        "    lines = f.readlines()\n",
        "\n",
        "dates, times, names, messages = [], [], [], []\n",
        "\n",
        "for line in lines:\n",
        "    line.strip(\"\\n\")\n",
        "    if \" - \" in line:\n",
        "        parts = line.split(\" - \")\n",
        "        if len(parts) == 2:\n",
        "            date_time = parts[0].strip().split(', ')\n",
        "            if len(date_time) == 2:\n",
        "                date, time = date_time\n",
        "                x = parts[1].split(\":\")\n",
        "                name = ''\n",
        "                if len(x) == 2:\n",
        "                  name, message = x\n",
        "                  dates.append(date)\n",
        "                  times.append(time)\n",
        "                  names.append(name)\n",
        "                  messages.append(message)\n",
        "\n",
        "df = pd.DataFrame({\n",
        "    \"Date\": dates,\n",
        "    \"Time\": times,\n",
        "    \"Name\": names,\n",
        "    \"Message\": messages\n",
        "})\n",
        "\n",
        "df[\"Message\"] = df[\"Message\"].str.strip(\"\\n\")"
      ],
      "metadata": {
        "id": "NcvYWx7iLfq6"
      },
      "execution_count": null,
      "outputs": []
    },
    {
      "cell_type": "code",
      "source": [
        "x = dict(df[\"Name\"].value_counts())\n",
        "x = pd.DataFrame(x.items(), columns = [\"Name\", \"Count\"])\n",
        "fig = px.bar(x, x = \"Name\", y = \"Count\", title = \"Number of Messages\")\n",
        "fig.show()"
      ],
      "metadata": {
        "id": "FikRkQthVZbv"
      },
      "execution_count": null,
      "outputs": []
    },
    {
      "cell_type": "code",
      "source": [
        "#Make DF words and count (Keeping this so that we can also use for plotting)\n",
        "x = {}\n",
        "for i in range(df.shape[0]):\n",
        "  words = df[\"Message\"].iloc[i].split()\n",
        "  for word in words:\n",
        "    if word not in x:\n",
        "      x[word] = 1\n",
        "    else:\n",
        "      x[word] += 1\n",
        "x = pd.DataFrame(x.items(), columns = [\"Word\", \"Count\"])\n",
        "\n",
        "#Removing Media\n",
        "z = x[(x[\"Word\"] == \"<Media\") | (x[\"Word\"] == \"omitted>\")].index\n",
        "x.drop(z, inplace = True)\n",
        "x = x.sort_values(by = 'Count', ascending = False)\n",
        "print(\"Most Messaged Words\")\n",
        "print(x.to_string(index = False))"
      ],
      "metadata": {
        "id": "6_JbwoORd15Y"
      },
      "execution_count": null,
      "outputs": []
    },
    {
      "cell_type": "code",
      "source": [
        "#Making Dictionary for words with lowercase (IDK why groupby does not give result. It just prints unkown characters)\n",
        "x = {}\n",
        "for i in range(df.shape[0]):\n",
        "  words = df[\"Message\"].iloc[i].split()\n",
        "  for word in words:\n",
        "    word = word.lower()\n",
        "    if word not in x:\n",
        "      x[word] = 1\n",
        "    else:\n",
        "      x[word] += 1\n",
        "x = pd.DataFrame(x.items(), columns = [\"Word\", \"Count\"])\n",
        "x = x.sort_values(by = 'Count', ascending = False)\n",
        "\n",
        "print(x.loc[x[\"Word\"].isin(['bsdk','fuck', 'mc', 'bc', 'shekhu', 'yugraj', \"f\", \"Manas\"])])"
      ],
      "metadata": {
        "id": "6zPP2AfasPIE"
      },
      "execution_count": null,
      "outputs": []
    },
    {
      "cell_type": "code",
      "source": [
        "new_df = df[df.Message != \"<Media omitted>\"] #Removing Medai ommitted so that they do not hamper word counts\n",
        "\n",
        "z = df[\"Name\"].unique() #List of unique names\n",
        "\n",
        "#Dictionary to count the number of words in each name\n",
        "x = {}\n",
        "for name in z:\n",
        "  x[name] = 0\n",
        "for i in range(new_df.shape[0]):\n",
        "  x[df[\"Name\"].iloc[i]] += len(new_df[\"Message\"].iloc[i].split())  \n",
        "\n",
        "#Sortig the Dictionary in reverse order\n",
        "keys = list(x.keys())\n",
        "values = list(x.values())\n",
        "sorted_value_index = np.argsort(values)\n",
        "x = {keys[i]: values[i] for i in sorted_value_index}\n",
        "x = dict(reversed(list(x.items())))\n",
        "\n",
        "#Plot\n",
        "x = pd.DataFrame(x.items(), columns = [\"Name\", \"Count\"])\n",
        "fig = px.bar(x, x = \"Name\", y = \"Count\", title = \"Number of Words\")\n",
        "fig.show()"
      ],
      "metadata": {
        "id": "G-w0hPTGbzBJ"
      },
      "execution_count": null,
      "outputs": []
    },
    {
      "cell_type": "code",
      "source": [
        "df['Date'] = pd.to_datetime(df['Date'], format='%d/%m/%Y', errors='coerce') #Forcing all the values in the column to become in that format else NAN\n",
        "if df['Date'].isnull().sum() > 0:\n",
        "    df['Date'] = pd.to_datetime(df['Date'], format='%Y-%m-%d', errors='coerce')\n",
        "df[\"Date\"] = df[\"Date\"].dropna() #Drop all useless values\n",
        "df['Month_Year'] = df['Date'].dt.strftime('%B %Y') #Converting to Month year for better looking on the graph\n",
        "grouped = df.groupby(['Name', 'Month_Year', 'Date']).count() #Grouping these values ie making them the primary key\n",
        "\n",
        "# Performing Operations for each and every person\n",
        "for name in grouped.index.levels[0]:\n",
        "    sub_df = grouped.loc[name].reset_index()\n",
        "    sub_df = sub_df.sort_values(by='Date')\n",
        "    #Replacing the missing date values ie where the person did not message and putting the message count to 0 over there\n",
        "    sub_df = sub_df.set_index(\"Date\")\n",
        "    sub_df = sub_df.resample(\"D\").asfreq() #Replace missing date values (Can change only if index is the column whose dates you want to insert ie all the values there have to be unique)\n",
        "    sub_df[\"Message\"].fillna(0, inplace=True)\n",
        "    sub_df = sub_df.reset_index() #Change index again\n",
        "    #Plot\n",
        "    fig = px.line(sub_df, x = 'Date', y = 'Message', title = name)\n",
        "    fig.show()\n",
        "\n",
        "#Same but not bringing back in the dates (Can't do because they repeat because of repeating name. One way is the create different dataframes and then concat them and then plot with color = \"name\" but takes too much time so did not do it)\n",
        "grouped = grouped.reset_index()\n",
        "grouped = grouped.sort_values(by='Date')\n",
        "fig = px.line(grouped, x = 'Date', y = 'Message', color = 'Name', title = 'Everyone')\n",
        "fig.show()\n",
        "\n",
        "#Same thing but for the whole group so ignoring the names\n",
        "grouped = df.groupby(['Date']).count()\n",
        "grouped = grouped.reset_index()\n",
        "grouped = grouped.sort_values(by = 'Date')\n",
        "grouped = grouped.set_index(\"Date\")\n",
        "grouped = grouped.resample(\"D\").asfreq()\n",
        "grouped[\"Message\"].fillna(0, inplace=True)\n",
        "grouped = grouped.reset_index()\n",
        "fig = px.line(grouped, x = 'Date', y = 'Message', title = 'Overall messages of the group')\n",
        "fig.show()"
      ],
      "metadata": {
        "id": "DSdH4mPMh1x3"
      },
      "execution_count": 2,
      "outputs": []
    },
    {
      "cell_type": "code",
      "source": [
        "#Using textblob for sentimental analysis (IDK how to use it so chatGPT(Orz))\n",
        "df['Sentiment'] = df['Message'].apply(lambda x: TextBlob(x).sentiment.polarity)\n",
        "grouped = df.groupby(['Name'])\n",
        "sentiment_scores = grouped['Sentiment'].mean() #Finding mean because just 1 number of each person look good\n",
        "\n",
        "#Plot\n",
        "fig = px.bar(sentiment_scores, x=sentiment_scores.index, y=sentiment_scores, title='Sentiment Scores by Person')\n",
        "fig.show()"
      ],
      "metadata": {
        "id": "rCxmXMDk2AOa"
      },
      "execution_count": null,
      "outputs": []
    },
    {
      "cell_type": "code",
      "source": [
        "#Instead of messages did the same process for number of words\n",
        "df['Word Count'] = df['Message'].apply(lambda x: len(x.split()))\n",
        "grouped = df.groupby(['Date', 'Name'])\n",
        "word_count_per_day = grouped['Word Count'].sum().reset_index()\n",
        "\n",
        "#IDK what this is chatGPT(Orz)\n",
        "for name, sub_df in word_count_per_day.groupby('Name'):\n",
        "    fig = px.line(sub_df, x='Date', y='Word Count', title=name)\n",
        "    fig.show()\n",
        "\n",
        "overall_word_count = word_count_per_day.groupby('Date').sum().reset_index()\n",
        "\n",
        "fig = px.line(overall_word_count, x='Date', y='Word Count', title='Overall Word Count of the group')\n",
        "fig.show()\n"
      ],
      "metadata": {
        "id": "5BeJqhMO455R"
      },
      "execution_count": null,
      "outputs": []
    },
    {
      "cell_type": "code",
      "source": [
        "#Instead of Date using hours as a metric to see which time of the day is most active\n",
        "def convert(string):\n",
        "      if string[-2:] == \"AM\" and string[:2] == \"12\":\n",
        "         return \"00\" + string[2:-2]\n",
        "      elif string[-2:] == \"AM\":\n",
        "         return string[:-2]\n",
        "      elif string[-2:] == \"PM\" and string[:2] == \"12\":\n",
        "         return string[:-2]\n",
        "      else:\n",
        "          return str(int(string[:2]) + 12) + string[2:8]\n",
        "\n",
        "def extract_hour(time_str):\n",
        "    #Returns at which hour the message was sent. Rounds off the nearest hour. Could be ciel as well as floor value\n",
        "    if time_str[-1:] >= \"30\":\n",
        "      if time_str[1] == \"9\":\n",
        "        x = list(time_str)\n",
        "        x[1] = \"0\"\n",
        "        time_str = ''.join(x)\n",
        "        if time_str[0] == \"1\":\n",
        "          x = list(time_str)\n",
        "          x[0] = \"2\"\n",
        "          time_str = ''.join(x)\n",
        "        else:\n",
        "          x = list(time_str)\n",
        "          x[0] = \"1\"\n",
        "          time_str = ''.join(x)\n",
        "      elif time_str[0:2] == '23':\n",
        "          x = list(time_str)\n",
        "          x[0] = \"0\"\n",
        "          x[1] = \"0\"\n",
        "          time_str = ''.join(x)\n",
        "    return time_str[0:2]\n",
        "\n",
        "df['Hour'] = df['Time'].apply(extract_hour) #Making new column of hours\n",
        "grouped = df.groupby([\"Name\", \"Hour\"]).count()\n",
        "\n",
        "#Individual\n",
        "for name in grouped.index.levels[0]:\n",
        "  sub_df = grouped.loc[name].reset_index()\n",
        "  sub_df = sub_df.sort_values(by = \"Hour\")\n",
        "  fig = px.line(sub_df, x = 'Hour', y = 'Message', title = name)\n",
        "  fig.show()\n",
        "\n",
        "#Whole Group\n",
        "grouped = df.groupby([\"Hour\"]).count()\n",
        "grouped = grouped.sort_values(by = \"Hour\")\n",
        "fig = px.line(sub_df, x = 'Hour', y = 'Message', title = \"All Messages of the group\")\n",
        "fig.show()"
      ],
      "metadata": {
        "id": "P2JQq_eUZGe8"
      },
      "execution_count": null,
      "outputs": []
    },
    {
      "cell_type": "code",
      "source": [
        "def awc(x, y):\n",
        "  for name in list(x.keys()):\n",
        "    x[name] = (x[name] / y[name])\n",
        "  return x\n",
        "\n",
        "y = dict(df[\"Name\"].value_counts())\n",
        "\n",
        "new_df = df[df.Message != \"<Media omitted>\"] #Removing Medai ommitted so that they do not hamper word counts\n",
        "\n",
        "z = df[\"Name\"].unique() #List of unique names\n",
        "\n",
        "#Dictionary to count the number of words in each name\n",
        "x = {}\n",
        "for name in z:\n",
        "  x[name] = 0\n",
        "for i in range(new_df.shape[0]):\n",
        "  x[df[\"Name\"].iloc[i]] += len(new_df[\"Message\"].iloc[i].split())  \n",
        "\n",
        "out = awc(x, y)\n",
        "\n",
        "keys = list(x.keys())\n",
        "values = list(x.values())\n",
        "sorted_value_index = np.argsort(values)\n",
        "x = {keys[i]: values[i] for i in sorted_value_index}\n",
        "x = dict(reversed(list(x.items())))\n",
        "\n",
        "print(\"Average Words per Message\\n\")\n",
        "keys = list(x.keys())\n",
        "for name in keys:\n",
        "  print(name + \": \" + str(x[name]) + \"\\n\")"
      ],
      "metadata": {
        "id": "mO1L2sV8pxCA"
      },
      "execution_count": null,
      "outputs": []
    }
  ]
}